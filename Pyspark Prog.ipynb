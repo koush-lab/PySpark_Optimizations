{
 "cells": [
  {
   "cell_type": "code",
   "execution_count": 2,
   "metadata": {},
   "outputs": [
    {
     "name": "stdout",
     "output_type": "stream",
     "text": [
      "Requirement already satisfied: findspark in c:\\users\\koushik\\anaconda2\\envs\\notebook\\lib\\site-packages (1.4.2)\n",
      "Note: you may need to restart the kernel to use updated packages.\n"
     ]
    }
   ],
   "source": [
    "pip install findspark"
   ]
  },
  {
   "cell_type": "code",
   "execution_count": 4,
   "metadata": {},
   "outputs": [],
   "source": [
    "import findspark\n",
    "findspark.init()\n",
    "from pyspark.sql.functions import *\n",
    "from pyspark.sql import SparkSession\n",
    "spark = SparkSession.builder.getOrCreate()"
   ]
  },
  {
   "cell_type": "code",
   "execution_count": 4,
   "metadata": {},
   "outputs": [],
   "source": [
    "import findspark\n",
    "findspark.init()"
   ]
  },
  {
   "cell_type": "code",
   "execution_count": 7,
   "metadata": {},
   "outputs": [],
   "source": [
    "from pyspark.sql.functions import *\n",
    "from pyspark.sql import SparkSession"
   ]
  },
  {
   "cell_type": "code",
   "execution_count": 8,
   "metadata": {},
   "outputs": [],
   "source": [
    "spark = SparkSession.builder.getOrCreate()"
   ]
  },
  {
   "cell_type": "code",
   "execution_count": 34,
   "metadata": {},
   "outputs": [
    {
     "name": "stdout",
     "output_type": "stream",
     "text": [
      "+---------+---+------+\n",
      "|     Name|Age|Gender|\n",
      "+---------+---+------+\n",
      "|  Koushik| 34|  Male|\n",
      "| Parinita| 32|Female|\n",
      "|  Kalpana| 56|Female|\n",
      "|Kashinath| 70|  Male|\n",
      "+---------+---+------+\n",
      "\n",
      "+---------+---+\n",
      "|     Name|Age|\n",
      "+---------+---+\n",
      "|  Koushik| 67|\n",
      "| Parinita| 32|\n",
      "|  Kalpana| 78|\n",
      "|Kashinath| 70|\n",
      "+---------+---+\n",
      "\n"
     ]
    }
   ],
   "source": [
    "df1 = spark.read.option(\"delimiter\",\",\").csv('C:\\\\Users\\Koushik\\Desktop\\input1.csv',header=True)\n",
    "df1.show()\n",
    "df2 = spark.read.option(\"delimiter\",\",\").csv('C:\\\\Users\\Koushik\\Desktop\\input2.csv',header=True)\n",
    "df2.show()"
   ]
  },
  {
   "cell_type": "code",
   "execution_count": 35,
   "metadata": {},
   "outputs": [
    {
     "name": "stdout",
     "output_type": "stream",
     "text": [
      "listA = ['Gender']\n",
      "listB =  []\n"
     ]
    }
   ],
   "source": [
    "listA = list(set(df1.columns)-set(df2.columns))\n",
    "print(\"listA =\",listA)\n",
    "listB = list(set(df2.columns)-set(df1.columns))\n",
    "print(\"listB = \",listB)"
   ]
  },
  {
   "cell_type": "code",
   "execution_count": 38,
   "metadata": {},
   "outputs": [
    {
     "name": "stdout",
     "output_type": "stream",
     "text": [
      "i = Gender\n"
     ]
    }
   ],
   "source": [
    "for i in listA:\n",
    "    df2=df2.withColumn(i,lit(\"null\"))\n",
    "    print(\"i =\",i)\n",
    "for i in listB:\n",
    "    df1=df1.withColumn(i,lit(\"null\"))\n",
    "df_final = df1.union(df2)"
   ]
  },
  {
   "cell_type": "code",
   "execution_count": 37,
   "metadata": {},
   "outputs": [
    {
     "name": "stdout",
     "output_type": "stream",
     "text": [
      "+---------+---+------+\n",
      "|     Name|Age|Gender|\n",
      "+---------+---+------+\n",
      "|  Koushik| 34|  Male|\n",
      "| Parinita| 32|Female|\n",
      "|  Kalpana| 56|Female|\n",
      "|Kashinath| 70|  Male|\n",
      "|  Koushik| 67|  null|\n",
      "| Parinita| 32|  null|\n",
      "|  Kalpana| 78|  null|\n",
      "|Kashinath| 70|  null|\n",
      "+---------+---+------+\n",
      "\n"
     ]
    }
   ],
   "source": [
    "df_final.show()"
   ]
  },
  {
   "cell_type": "code",
   "execution_count": 55,
   "metadata": {},
   "outputs": [
    {
     "name": "stdout",
     "output_type": "stream",
     "text": [
      "df3 :\n",
      "+---------+---+------+\n",
      "|     Name|Age|Gender|\n",
      "+---------+---+------+\n",
      "|  Koushik| 34|  Male|\n",
      "| Parinita| 32|Female|\n",
      "|  Kalpana| 56|Female|\n",
      "|Kashinath| 70|  Male|\n",
      "+---------+---+------+\n",
      "\n",
      "df4 :\n",
      "+---------+---+------+---+\n",
      "|     Name|Age|Gender|sex|\n",
      "+---------+---+------+---+\n",
      "|  Koushik| 34|  Male|  M|\n",
      "| Parinita| 32|Female|  F|\n",
      "|  Kalpana| 56|Female|  F|\n",
      "|Kashinath| 70|  Male|  M|\n",
      "+---------+---+------+---+\n",
      "\n"
     ]
    }
   ],
   "source": [
    "# adding a column next to Gender as Sex = (M/F) using UDFs\n",
    "\n",
    "from pyspark.sql.functions import *\n",
    "from pyspark.sql import SparkSession\n",
    "from pyspark.sql.functions import udf\n",
    "from pyspark.sql.types import StringType\n",
    "\n",
    "spark = SparkSession.builder.getOrCreate()\n",
    "df3 = spark.read.option(\"delimiter\",\",\").csv(\"C:\\\\Users\\Koushik\\Desktop\\input1.csv\",header=True)\n",
    "print(\"df3 :\")\n",
    "df3.show()\n",
    "\n",
    "def func(Gender):\n",
    "    if Gender==\"Male\":\n",
    "        return \"M\"\n",
    "    if Gender==\"Female\":\n",
    "        return \"F\"\n",
    "    return 0\n",
    "\n",
    "func_udf=udf(func,StringType()) # register a function\n",
    "\n",
    "df4 = df3.withColumn('sex',func_udf(df3['Gender']))\n",
    "print(\"df4 :\")\n",
    "df4.show()\n",
    "df4.write.format('csv').save(\"C:\\\\Users\\Koushik\\Desktop\\output1.csv\",header=True)"
   ]
  },
  {
   "cell_type": "code",
   "execution_count": 56,
   "metadata": {},
   "outputs": [
    {
     "name": "stdout",
     "output_type": "stream",
     "text": [
      "+---------+---+------+\n",
      "|     Name|Age|Gender|\n",
      "+---------+---+------+\n",
      "|  Koushik| 34|  Male|\n",
      "| Parinita| 32|Female|\n",
      "|  Kalpana| 56|Female|\n",
      "|Kashinath| 70|  Male|\n",
      "+---------+---+------+\n",
      "\n"
     ]
    }
   ],
   "source": [
    "df1.show()"
   ]
  },
  {
   "cell_type": "code",
   "execution_count": 1,
   "metadata": {},
   "outputs": [
    {
     "ename": "NameError",
     "evalue": "name 'udf' is not defined",
     "output_type": "error",
     "traceback": [
      "\u001b[1;31m---------------------------------------------------------------------------\u001b[0m",
      "\u001b[1;31mNameError\u001b[0m                                 Traceback (most recent call last)",
      "\u001b[1;32m<ipython-input-1-bd6b80049689>\u001b[0m in \u001b[0;36m<module>\u001b[1;34m\u001b[0m\n\u001b[0;32m      5\u001b[0m     \u001b[1;32mreturn\u001b[0m \u001b[1;36m0\u001b[0m\u001b[1;33m\u001b[0m\u001b[1;33m\u001b[0m\u001b[0m\n\u001b[0;32m      6\u001b[0m \u001b[1;33m\u001b[0m\u001b[0m\n\u001b[1;32m----> 7\u001b[1;33m \u001b[0mfunc_df1\u001b[0m \u001b[1;33m=\u001b[0m \u001b[0mudf\u001b[0m\u001b[1;33m(\u001b[0m\u001b[0mCiteria\u001b[0m\u001b[1;33m,\u001b[0m \u001b[0mStringType\u001b[0m\u001b[1;33m(\u001b[0m\u001b[1;33m)\u001b[0m\u001b[1;33m)\u001b[0m\u001b[1;33m\u001b[0m\u001b[1;33m\u001b[0m\u001b[0m\n\u001b[0m\u001b[0;32m      8\u001b[0m \u001b[0mdf6\u001b[0m \u001b[1;33m=\u001b[0m \u001b[0mdf1\u001b[0m\u001b[1;33m.\u001b[0m\u001b[0mwithColumn\u001b[0m\u001b[1;33m(\u001b[0m\u001b[1;34m'age1'\u001b[0m\u001b[1;33m,\u001b[0m\u001b[0mfunc_df1\u001b[0m\u001b[1;33m(\u001b[0m\u001b[0mdf1\u001b[0m\u001b[1;33m[\u001b[0m\u001b[1;34m'age'\u001b[0m\u001b[1;33m]\u001b[0m\u001b[1;33m)\u001b[0m\u001b[1;33m)\u001b[0m\u001b[1;33m\u001b[0m\u001b[1;33m\u001b[0m\u001b[0m\n\u001b[0;32m      9\u001b[0m \u001b[0mdf6\u001b[0m\u001b[1;33m.\u001b[0m\u001b[0mshow\u001b[0m\u001b[1;33m(\u001b[0m\u001b[1;33m)\u001b[0m\u001b[1;33m\u001b[0m\u001b[1;33m\u001b[0m\u001b[0m\n",
      "\u001b[1;31mNameError\u001b[0m: name 'udf' is not defined"
     ]
    }
   ],
   "source": [
    "def Citeria(age):\n",
    "    if (age>60):\n",
    "        return \"Senior Citizen\"\n",
    "    else: return \"Not Senior Citizen\"\n",
    "    return 0\n",
    "\n",
    "func_df1 = udf(Citeria, StringType())\n",
    "df6 = df1.withColumn('age1',func_df1(df1['age']))\n",
    "df6.show()"
   ]
  },
  {
   "cell_type": "code",
   "execution_count": null,
   "metadata": {},
   "outputs": [],
   "source": []
  }
 ],
 "metadata": {
  "kernelspec": {
   "display_name": "Python 3",
   "language": "python",
   "name": "python3"
  },
  "language_info": {
   "codemirror_mode": {
    "name": "ipython",
    "version": 3
   },
   "file_extension": ".py",
   "mimetype": "text/x-python",
   "name": "python",
   "nbconvert_exporter": "python",
   "pygments_lexer": "ipython3",
   "version": "3.7.7"
  }
 },
 "nbformat": 4,
 "nbformat_minor": 4
}
